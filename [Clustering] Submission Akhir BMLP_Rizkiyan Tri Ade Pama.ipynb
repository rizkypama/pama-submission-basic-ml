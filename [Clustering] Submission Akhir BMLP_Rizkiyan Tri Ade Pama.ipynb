import pandas as pd
import numpy as np
import yfinance as yf
import matplotlib.pyplot as plt
from sklearn.preprocessing import StandardScaler
from sklearn.cluster import KMeans
from sklearn.decomposition import PCA
from sklearn.metrics import silhouette_score

# 1. Memuat Data
def load_stock_data(tickers, start_date, end_date):
    data = yf.download(tickers, start=start_date, end=end_date)
    return data['Adj Close']

tickers = ['AAPL', 'GOOGL', 'MSFT', 'AMZN', 'FB', 'TSLA', 'NVDA', 'JPM', 'V', 'JNJ']
start_date = '2020-01-01'
end_date = '2023-01-01'

stock_data = load_stock_data(tickers, start_date, end_date)

# 2. Pra-pemrosesan Data
def calculate_returns(data):
    return np.log(data / data.shift(1))

returns = calculate_returns(stock_data)
returns = returns.dropna()

# Menghitung indikator teknikal
def calculate_indicators(data):
    indicators = pd.DataFrame(index=data.index)
    for column in data.columns:
        indicators[f'{column}_SMA_20'] = data[column].rolling(window=20).mean()
        indicators[f'{column}_SMA_50'] = data[column].rolling(window=50).mean()
        indicators[f'{column}_RSI'] = calculate_rsi(data[column])
    return indicators.dropna()

def calculate_rsi(prices, period=14):
    delta = prices.diff()
    gain = (delta.where(delta > 0, 0)).rolling(window=period).mean()
    loss = (-delta.where(delta < 0, 0)).rolling(window=period).mean()
    rs = gain / loss
    return 100 - (100 / (1 + rs))

indicators = calculate_indicators(stock_data)

# Menggabungkan returns dan indikator
features = pd.concat([returns, indicators], axis=1).dropna()

# Normalisasi fitur
scaler = StandardScaler()
scaled_features = scaler.fit_transform(features)

# 3. Clustering dengan K-means
def find_optimal_clusters(data, max_k):
    silhouette_scores = []
    for k in range(2, max_k+1):
        kmeans = KMeans(n_clusters=k, random_state=42)
        kmeans.fit(data)
        score = silhouette_score(data, kmeans.labels_)
        silhouette_scores.append(score)
    return silhouette_scores

max_k = 10
silhouette_scores = find_optimal_clusters(scaled_features, max_k)

# Plot silhouette scores
plt.plot(range(2, max_k+1), silhouette_scores)
plt.xlabel('Number of clusters')
plt.ylabel('Silhouette Score')
plt.title('Silhouette Analysis')
plt.show()

# Memilih jumlah cluster optimal (misalnya, 4)
optimal_k = 4
kmeans = KMeans(n_clusters=optimal_k, random_state=42)
cluster_labels = kmeans.fit_predict(scaled_features)

# 4. Visualisasi hasil clustering
pca = PCA(n_components=2)
pca_result = pca.fit_transform(scaled_features)

plt.scatter(pca_result[:, 0], pca_result[:, 1], c=cluster_labels, cmap='viridis')
plt.title('Stock Clusters')
plt.xlabel('First Principal Component')
plt.ylabel('Second Principal Component')
plt.colorbar(label='Cluster')
plt.show()

# 5. Analisis cluster
cluster_df = pd.DataFrame({'Stock': features.index, 'Cluster': cluster_labels})
for cluster in range(optimal_k):
    print(f"Cluster {cluster}:")
    print(cluster_df[cluster_df['Cluster'] == cluster]['Stock'].value_counts())
    print("\n")

# Ekspor hasil clustering
cluster_df.to_csv('stock_clusters.csv', index=False)
