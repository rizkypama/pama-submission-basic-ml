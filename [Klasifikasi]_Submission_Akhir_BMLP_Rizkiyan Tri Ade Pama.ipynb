from sklearn.model_selection import train_test_split
from sklearn.ensemble import RandomForestClassifier
from sklearn.svm import SVC
from sklearn.metrics import classification_report, accuracy_score
from sklearn.model_selection import GridSearchCV

# 1. Memuat data hasil clustering
cluster_data = pd.read_csv('stock_clusters.csv')
features = pd.concat([returns, indicators], axis=1).dropna()

# Menggabungkan fitur dengan label cluster
data = pd.merge(features, cluster_data, left_index=True, right_on='Stock')

# 2. Pembagian data
X = data.drop(['Stock', 'Cluster'], axis=1)
y = data['Cluster']

X_train, X_test, y_train, y_test = train_test_split(X, y, test_size=0.2, random_state=42)

# 3. Membangun dan melatih model
rf_classifier = RandomForestClassifier(random_state=42)
svm_classifier = SVC(random_state=42)

# Random Forest
rf_classifier.fit(X_train, y_train)
rf_predictions = rf_classifier.predict(X_test)

print("Random Forest Classifier:")
print(classification_report(y_test, rf_predictions))
print(f"Accuracy: {accuracy_score(y_test, rf_predictions)}\n")

# SVM
svm_classifier.fit(X_train, y_train)
svm_predictions = svm_classifier.predict(X_test)

print("Support Vector Machine:")
print(classification_report(y_test, svm_predictions))
print(f"Accuracy: {accuracy_score(y_test, svm_predictions)}\n")

# 4. Tuning hyperparameter
rf_param_grid = {
    'n_estimators': [100, 200, 300],
    'max_depth': [None, 10, 20, 30],
    'min_samples_split': [2, 5, 10]
}

rf_grid_search = GridSearchCV(rf_classifier, rf_param_grid, cv=5, n_jobs=-1)
rf_grid_search.fit(X_train, y_train)

print("Best Random Forest parameters:", rf_grid_search.best_params_)
rf_best_predictions = rf_grid_search.predict(X_test)
print("\nRandom Forest (after tuning):")
print(classification_report(y_test, rf_best_predictions))
print(f"Accuracy: {accuracy_score(y_test, rf_best_predictions)}\n")

# 5. Analisis fitur penting
feature_importance = pd.DataFrame({
    'feature': X.columns,
    'importance': rf_grid_search.best_estimator_.feature_importances_
}).sort_values('importance', ascending=False)

print("Top 10 Most Important Features:")
print(feature_importance.head(10))

# Visualisasi fitur penting
plt.figure(figsize=(10, 6))
plt.bar(feature_importance['feature'][:10], feature_importance['importance'][:10])
plt.title('Top 10 Most Important Features')
plt.xlabel('Features')
plt.ylabel('Importance')
plt.xticks(rotation=45)
plt.tight_layout()
plt.show()
